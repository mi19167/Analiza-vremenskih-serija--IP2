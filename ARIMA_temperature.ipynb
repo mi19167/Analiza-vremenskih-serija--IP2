{
 "cells": [
  {
   "cell_type": "code",
   "execution_count": 1,
   "id": "bd40006b",
   "metadata": {},
   "outputs": [],
   "source": [
    "import pandas as pd\n",
    "import matplotlib.pyplot as plt\n",
    "import matplotlib.pyplot as plt\n",
    "import seaborn as sns \n",
    "from sklearn.model_selection import train_test_split\n",
    "from pmdarima.arima import auto_arima\n",
    "import pandas as pd\n"
   ]
  },
  {
   "cell_type": "code",
   "execution_count": 2,
   "id": "5aabcfd4",
   "metadata": {},
   "outputs": [],
   "source": [
    "df = pd.read_csv('srednjeni_podaci.csv', parse_dates=True)"
   ]
  },
  {
   "cell_type": "code",
   "execution_count": 3,
   "id": "61c97a0f",
   "metadata": {},
   "outputs": [
    {
     "data": {
      "text/plain": [
       "<bound method NDFrame.head of      Unnamed: 0  godina       jan       feb        mar        apr        maj  \\\n",
       "0             0  1887.0  0.295349  2.032558   6.925581  12.193798  17.117054   \n",
       "1             1  1888.0 -6.500000 -2.300000   7.100000  10.900000  15.900000   \n",
       "2             2  1889.0 -4.000000 -0.900000   3.700000  11.000000  18.200000   \n",
       "3             3  1890.0  1.300000 -1.700000   6.500000  13.000000  17.600000   \n",
       "4             4  1891.0 -6.400000 -4.800000   6.500000   9.400000  19.100000   \n",
       "..          ...     ...       ...       ...        ...        ...        ...   \n",
       "126         126  2013.0  3.200000  4.400000   6.600000  14.800000  18.900000   \n",
       "127         127  2014.0  5.200000  7.600000  10.800000  13.600000  16.900000   \n",
       "128         128  2015.0  3.800000  4.000000   8.100000  13.200000  18.800000   \n",
       "129         129  2016.0  2.400000  9.000000   9.000000  15.400000  17.300000   \n",
       "130         130  2017.0  0.295349  2.032558   6.925581  12.193798  17.117054   \n",
       "\n",
       "           jun        jul        avg  ...        okt  nov       dec  \\\n",
       "0    20.351938  22.358915  20.700000  ...   9.800000  7.7  0.300000   \n",
       "1    20.500000  20.800000  20.100000  ...  10.900000  1.2  1.600000   \n",
       "2    20.900000  21.400000  20.600000  ...  14.800000  5.0 -3.500000   \n",
       "3    17.900000  22.100000  24.600000  ...  10.500000  7.4 -2.300000   \n",
       "4    20.400000  22.400000  22.700000  ...  14.600000  6.8  2.800000   \n",
       "..         ...        ...        ...  ...        ...  ...       ...   \n",
       "126  21.100000  24.100000  25.100000  ...  15.200000  9.8  3.000000   \n",
       "127  21.300000  22.800000  22.500000  ...  14.100000  9.6  4.500000   \n",
       "128  21.700000  26.500000  25.900000  ...  12.300000  9.2  4.200000   \n",
       "129  22.400000  24.100000  22.200000  ...  11.200000  7.6  0.700000   \n",
       "130  20.351938  22.358915  21.851538  ...  12.635385  6.9  2.349231   \n",
       "\n",
       "        prosek      zima    proleće       leto      jesen  tsr-amp-mes  \\\n",
       "0    11.910336  1.535582  12.078811  21.526057  12.100000    23.789147   \n",
       "1     9.866667 -2.833333  11.300000  20.466667  10.100000    27.300000   \n",
       "2    10.083333 -1.100000  10.966667  20.966667  11.200000    25.400000   \n",
       "3    11.016667 -1.300000  12.366667  21.533333  11.066667    26.900000   \n",
       "4    10.958333 -4.500000  11.666667  21.833333  13.133333    29.100000   \n",
       "..         ...       ...        ...        ...        ...          ...   \n",
       "126  13.625000  3.166667  13.433333  23.433333  14.100000    22.100000   \n",
       "127  13.925000  5.266667  13.766667  22.200000  13.966667    18.300000   \n",
       "128  13.975000  4.100000  13.366667  24.700000  13.833333    22.700000   \n",
       "129  13.416667  5.200000  13.900000  23.200000  12.833333    23.400000   \n",
       "130  11.910336  1.559046  12.078811  21.520797  12.471538    23.789147   \n",
       "\n",
       "     tsr leto-zima  \n",
       "0        19.990698  \n",
       "1        23.300000  \n",
       "2        22.066667  \n",
       "3        22.833333  \n",
       "4        26.333333  \n",
       "..             ...  \n",
       "126      20.266667  \n",
       "127      16.933333  \n",
       "128      20.600000  \n",
       "129      18.000000  \n",
       "130      19.990698  \n",
       "\n",
       "[131 rows x 21 columns]>"
      ]
     },
     "execution_count": 3,
     "metadata": {},
     "output_type": "execute_result"
    }
   ],
   "source": [
    "df.head\n"
   ]
  },
  {
   "cell_type": "code",
   "execution_count": 4,
   "id": "68f22a3c",
   "metadata": {},
   "outputs": [],
   "source": [
    "df = df.drop(df.columns[0], axis=1)"
   ]
  },
  {
   "cell_type": "code",
   "execution_count": 5,
   "id": "ad275ee8",
   "metadata": {},
   "outputs": [],
   "source": [
    "train_data, test_data = train_test_split(df, test_size=0.2, shuffle=False)"
   ]
  },
  {
   "cell_type": "code",
   "execution_count": 6,
   "id": "7e1d3dba",
   "metadata": {},
   "outputs": [
    {
     "name": "stdout",
     "output_type": "stream",
     "text": [
      "Performing stepwise search to minimize aic\n",
      " ARIMA(2,1,2)(0,0,0)[0] intercept   : AIC=inf, Time=0.52 sec\n",
      " ARIMA(0,1,0)(0,0,0)[0] intercept   : AIC=293.123, Time=0.02 sec\n",
      " ARIMA(1,1,0)(0,0,0)[0] intercept   : AIC=266.133, Time=0.05 sec\n",
      " ARIMA(0,1,1)(0,0,0)[0] intercept   : AIC=inf, Time=0.19 sec\n",
      " ARIMA(0,1,0)(0,0,0)[0]             : AIC=291.134, Time=0.02 sec\n",
      " ARIMA(2,1,0)(0,0,0)[0] intercept   : AIC=262.660, Time=0.05 sec\n",
      " ARIMA(3,1,0)(0,0,0)[0] intercept   : AIC=257.182, Time=0.06 sec\n",
      " ARIMA(4,1,0)(0,0,0)[0] intercept   : AIC=253.075, Time=0.10 sec\n",
      " ARIMA(5,1,0)(0,0,0)[0] intercept   : AIC=254.972, Time=0.12 sec\n",
      " ARIMA(4,1,1)(0,0,0)[0] intercept   : AIC=inf, Time=0.52 sec\n",
      " ARIMA(3,1,1)(0,0,0)[0] intercept   : AIC=inf, Time=0.42 sec\n",
      " ARIMA(5,1,1)(0,0,0)[0] intercept   : AIC=inf, Time=0.59 sec\n",
      " ARIMA(4,1,0)(0,0,0)[0]             : AIC=251.424, Time=0.07 sec\n",
      " ARIMA(3,1,0)(0,0,0)[0]             : AIC=255.417, Time=0.06 sec\n",
      " ARIMA(5,1,0)(0,0,0)[0]             : AIC=253.334, Time=0.08 sec\n",
      " ARIMA(4,1,1)(0,0,0)[0]             : AIC=242.041, Time=0.13 sec\n",
      " ARIMA(3,1,1)(0,0,0)[0]             : AIC=240.152, Time=0.12 sec\n",
      " ARIMA(2,1,1)(0,0,0)[0]             : AIC=239.786, Time=0.09 sec\n",
      " ARIMA(1,1,1)(0,0,0)[0]             : AIC=237.896, Time=0.06 sec\n",
      " ARIMA(0,1,1)(0,0,0)[0]             : AIC=235.971, Time=0.05 sec\n",
      " ARIMA(0,1,2)(0,0,0)[0]             : AIC=237.902, Time=0.05 sec\n",
      " ARIMA(1,1,0)(0,0,0)[0]             : AIC=264.209, Time=0.04 sec\n",
      " ARIMA(1,1,2)(0,0,0)[0]             : AIC=239.965, Time=0.13 sec\n",
      "\n",
      "Best model:  ARIMA(0,1,1)(0,0,0)[0]          \n",
      "Total fit time: 3.543 seconds\n"
     ]
    }
   ],
   "source": [
    "\n",
    "# Definisanje i treniranje modela\n",
    "model = auto_arima(train_data['prosek'], trace=True, error_action='ignore', suppress_warnings=True)\n",
    "model.fit(train_data['prosek'])\n",
    "\n",
    "# Predviđanja za testni skup\n",
    "forecast = model.predict(n_periods=len(test_data))\n",
    "forecast = pd.DataFrame(forecast, index=test_data.index, columns=['Prediction'])"
   ]
  },
  {
   "cell_type": "code",
   "execution_count": 7,
   "id": "050e46d3",
   "metadata": {},
   "outputs": [
    {
     "name": "stdout",
     "output_type": "stream",
     "text": [
      "Mean Squared Error (MSE): 1.6036087998820945\n",
      "Mean Absolute Error (MAE): 1.0704202729101386\n",
      "Root Mean Squared Error (RMSE): 1.2663367640095167\n",
      "Mean Absolute Percentage Error (MAPE): 7.99357247162468\n"
     ]
    }
   ],
   "source": [
    "from sklearn.metrics import mean_squared_error, mean_absolute_error\n",
    "import numpy as np\n",
    "\n",
    "# Izračunavanje MSE\n",
    "mse = mean_squared_error(test_data['prosek'], forecast['Prediction'])\n",
    "\n",
    "# Izračunavanje MAE\n",
    "mae = mean_absolute_error(test_data['prosek'], forecast['Prediction'])\n",
    "\n",
    "# Izračunavanje RMSE\n",
    "rmse = np.sqrt(mse)\n",
    "\n",
    "# Izračunavanje MAPE\n",
    "def mean_absolute_percentage_error(y_true, y_pred):\n",
    "    y_true, y_pred = np.array(y_true), np.array(y_pred)\n",
    "    return np.mean(np.abs((y_true - y_pred) / y_true)) * 100\n",
    "\n",
    "mape = mean_absolute_percentage_error(test_data['prosek'], forecast['Prediction'])\n",
    "\n",
    "# Ispisivanje rezultata\n",
    "print(\"Mean Squared Error (MSE):\", mse)\n",
    "print(\"Mean Absolute Error (MAE):\", mae)\n",
    "print(\"Root Mean Squared Error (RMSE):\", rmse)\n",
    "print(\"Mean Absolute Percentage Error (MAPE):\", mape)"
   ]
  },
  {
   "cell_type": "code",
   "execution_count": 8,
   "id": "4176185b",
   "metadata": {},
   "outputs": [
    {
     "name": "stdout",
     "output_type": "stream",
     "text": [
      "Performing stepwise search to minimize aic\n",
      " ARIMA(1,1,1)(0,1,1)[12]             : AIC=inf, Time=1.26 sec\n",
      " ARIMA(0,1,0)(0,1,0)[12]             : AIC=334.866, Time=0.04 sec\n",
      " ARIMA(1,1,0)(1,1,0)[12]             : AIC=270.679, Time=0.29 sec\n",
      " ARIMA(0,1,1)(0,1,1)[12]             : AIC=inf, Time=1.64 sec\n",
      " ARIMA(1,1,0)(0,1,0)[12]             : AIC=303.715, Time=0.05 sec\n",
      " ARIMA(1,1,0)(2,1,0)[12]             : AIC=256.712, Time=0.63 sec\n",
      " ARIMA(1,1,0)(2,1,1)[12]             : AIC=254.002, Time=1.85 sec\n",
      " ARIMA(1,1,0)(1,1,1)[12]             : AIC=252.007, Time=0.45 sec\n",
      " ARIMA(1,1,0)(0,1,1)[12]             : AIC=inf, Time=0.72 sec\n",
      " ARIMA(1,1,0)(1,1,2)[12]             : AIC=254.006, Time=2.63 sec\n",
      " ARIMA(1,1,0)(0,1,2)[12]             : AIC=252.085, Time=4.14 sec\n",
      " ARIMA(1,1,0)(2,1,2)[12]             : AIC=255.360, Time=1.11 sec\n",
      " ARIMA(0,1,0)(1,1,1)[12]             : AIC=282.878, Time=0.19 sec\n",
      " ARIMA(2,1,0)(1,1,1)[12]             : AIC=251.730, Time=0.37 sec\n",
      " ARIMA(2,1,0)(0,1,1)[12]             : AIC=inf, Time=0.71 sec\n",
      " ARIMA(2,1,0)(1,1,0)[12]             : AIC=270.355, Time=0.13 sec\n",
      " ARIMA(2,1,0)(2,1,1)[12]             : AIC=253.730, Time=1.13 sec\n",
      " ARIMA(2,1,0)(1,1,2)[12]             : AIC=253.730, Time=2.99 sec\n",
      " ARIMA(2,1,0)(0,1,0)[12]             : AIC=303.649, Time=0.04 sec\n",
      " ARIMA(2,1,0)(0,1,2)[12]             : AIC=251.859, Time=0.61 sec\n",
      " ARIMA(2,1,0)(2,1,0)[12]             : AIC=255.541, Time=0.31 sec\n",
      " ARIMA(2,1,0)(2,1,2)[12]             : AIC=254.997, Time=1.48 sec\n",
      " ARIMA(3,1,0)(1,1,1)[12]             : AIC=250.381, Time=0.44 sec\n",
      " ARIMA(3,1,0)(0,1,1)[12]             : AIC=inf, Time=0.48 sec\n",
      " ARIMA(3,1,0)(1,1,0)[12]             : AIC=266.455, Time=0.14 sec\n",
      " ARIMA(3,1,0)(2,1,1)[12]             : AIC=inf, Time=7.13 sec\n",
      " ARIMA(3,1,0)(1,1,2)[12]             : AIC=252.348, Time=6.67 sec\n",
      " ARIMA(3,1,0)(0,1,0)[12]             : AIC=303.901, Time=0.05 sec\n",
      " ARIMA(3,1,0)(0,1,2)[12]             : AIC=250.753, Time=0.87 sec\n",
      " ARIMA(3,1,0)(2,1,0)[12]             : AIC=254.708, Time=0.77 sec\n",
      " ARIMA(3,1,0)(2,1,2)[12]             : AIC=254.100, Time=2.42 sec\n",
      " ARIMA(3,1,1)(1,1,1)[12]             : AIC=234.218, Time=1.47 sec\n",
      " ARIMA(3,1,1)(0,1,1)[12]             : AIC=inf, Time=1.78 sec\n",
      " ARIMA(3,1,1)(1,1,0)[12]             : AIC=246.030, Time=0.57 sec\n",
      " ARIMA(3,1,1)(2,1,1)[12]             : AIC=inf, Time=3.79 sec\n",
      " ARIMA(3,1,1)(1,1,2)[12]             : AIC=235.983, Time=7.46 sec\n",
      " ARIMA(3,1,1)(0,1,0)[12]             : AIC=inf, Time=0.24 sec\n",
      " ARIMA(3,1,1)(0,1,2)[12]             : AIC=234.700, Time=1.81 sec\n",
      " ARIMA(3,1,1)(2,1,0)[12]             : AIC=238.980, Time=2.98 sec\n",
      " ARIMA(3,1,1)(2,1,2)[12]             : AIC=inf, Time=6.11 sec\n",
      " ARIMA(2,1,1)(1,1,1)[12]             : AIC=234.952, Time=1.74 sec\n",
      " ARIMA(3,1,2)(1,1,1)[12]             : AIC=inf, Time=5.05 sec\n",
      " ARIMA(2,1,2)(1,1,1)[12]             : AIC=236.235, Time=1.56 sec\n",
      " ARIMA(3,1,1)(1,1,1)[12] intercept   : AIC=inf, Time=1.72 sec\n",
      "\n",
      "Best model:  ARIMA(3,1,1)(1,1,1)[12]          \n",
      "Total fit time: 78.059 seconds\n"
     ]
    },
    {
     "data": {
      "text/html": [
       "<style>#sk-container-id-1 {color: black;}#sk-container-id-1 pre{padding: 0;}#sk-container-id-1 div.sk-toggleable {background-color: white;}#sk-container-id-1 label.sk-toggleable__label {cursor: pointer;display: block;width: 100%;margin-bottom: 0;padding: 0.3em;box-sizing: border-box;text-align: center;}#sk-container-id-1 label.sk-toggleable__label-arrow:before {content: \"▸\";float: left;margin-right: 0.25em;color: #696969;}#sk-container-id-1 label.sk-toggleable__label-arrow:hover:before {color: black;}#sk-container-id-1 div.sk-estimator:hover label.sk-toggleable__label-arrow:before {color: black;}#sk-container-id-1 div.sk-toggleable__content {max-height: 0;max-width: 0;overflow: hidden;text-align: left;background-color: #f0f8ff;}#sk-container-id-1 div.sk-toggleable__content pre {margin: 0.2em;color: black;border-radius: 0.25em;background-color: #f0f8ff;}#sk-container-id-1 input.sk-toggleable__control:checked~div.sk-toggleable__content {max-height: 200px;max-width: 100%;overflow: auto;}#sk-container-id-1 input.sk-toggleable__control:checked~label.sk-toggleable__label-arrow:before {content: \"▾\";}#sk-container-id-1 div.sk-estimator input.sk-toggleable__control:checked~label.sk-toggleable__label {background-color: #d4ebff;}#sk-container-id-1 div.sk-label input.sk-toggleable__control:checked~label.sk-toggleable__label {background-color: #d4ebff;}#sk-container-id-1 input.sk-hidden--visually {border: 0;clip: rect(1px 1px 1px 1px);clip: rect(1px, 1px, 1px, 1px);height: 1px;margin: -1px;overflow: hidden;padding: 0;position: absolute;width: 1px;}#sk-container-id-1 div.sk-estimator {font-family: monospace;background-color: #f0f8ff;border: 1px dotted black;border-radius: 0.25em;box-sizing: border-box;margin-bottom: 0.5em;}#sk-container-id-1 div.sk-estimator:hover {background-color: #d4ebff;}#sk-container-id-1 div.sk-parallel-item::after {content: \"\";width: 100%;border-bottom: 1px solid gray;flex-grow: 1;}#sk-container-id-1 div.sk-label:hover label.sk-toggleable__label {background-color: #d4ebff;}#sk-container-id-1 div.sk-serial::before {content: \"\";position: absolute;border-left: 1px solid gray;box-sizing: border-box;top: 0;bottom: 0;left: 50%;z-index: 0;}#sk-container-id-1 div.sk-serial {display: flex;flex-direction: column;align-items: center;background-color: white;padding-right: 0.2em;padding-left: 0.2em;position: relative;}#sk-container-id-1 div.sk-item {position: relative;z-index: 1;}#sk-container-id-1 div.sk-parallel {display: flex;align-items: stretch;justify-content: center;background-color: white;position: relative;}#sk-container-id-1 div.sk-item::before, #sk-container-id-1 div.sk-parallel-item::before {content: \"\";position: absolute;border-left: 1px solid gray;box-sizing: border-box;top: 0;bottom: 0;left: 50%;z-index: -1;}#sk-container-id-1 div.sk-parallel-item {display: flex;flex-direction: column;z-index: 1;position: relative;background-color: white;}#sk-container-id-1 div.sk-parallel-item:first-child::after {align-self: flex-end;width: 50%;}#sk-container-id-1 div.sk-parallel-item:last-child::after {align-self: flex-start;width: 50%;}#sk-container-id-1 div.sk-parallel-item:only-child::after {width: 0;}#sk-container-id-1 div.sk-dashed-wrapped {border: 1px dashed gray;margin: 0 0.4em 0.5em 0.4em;box-sizing: border-box;padding-bottom: 0.4em;background-color: white;}#sk-container-id-1 div.sk-label label {font-family: monospace;font-weight: bold;display: inline-block;line-height: 1.2em;}#sk-container-id-1 div.sk-label-container {text-align: center;}#sk-container-id-1 div.sk-container {/* jupyter's `normalize.less` sets `[hidden] { display: none; }` but bootstrap.min.css set `[hidden] { display: none !important; }` so we also need the `!important` here to be able to override the default hidden behavior on the sphinx rendered scikit-learn.org. See: https://github.com/scikit-learn/scikit-learn/issues/21755 */display: inline-block !important;position: relative;}#sk-container-id-1 div.sk-text-repr-fallback {display: none;}</style><div id=\"sk-container-id-1\" class=\"sk-top-container\"><div class=\"sk-text-repr-fallback\"><pre> ARIMA(3,1,1)(1,1,1)[12]          </pre><b>In a Jupyter environment, please rerun this cell to show the HTML representation or trust the notebook. <br />On GitHub, the HTML representation is unable to render, please try loading this page with nbviewer.org.</b></div><div class=\"sk-container\" hidden><div class=\"sk-item\"><div class=\"sk-estimator sk-toggleable\"><input class=\"sk-toggleable__control sk-hidden--visually\" id=\"sk-estimator-id-1\" type=\"checkbox\" checked><label for=\"sk-estimator-id-1\" class=\"sk-toggleable__label sk-toggleable__label-arrow\">ARIMA</label><div class=\"sk-toggleable__content\"><pre> ARIMA(3,1,1)(1,1,1)[12]          </pre></div></div></div></div></div>"
      ],
      "text/plain": [
       "ARIMA(order=(3, 1, 1), scoring_args={}, seasonal_order=(1, 1, 1, 12),\n",
       "      suppress_warnings=True, with_intercept=False)"
      ]
     },
     "execution_count": 8,
     "metadata": {},
     "output_type": "execute_result"
    }
   ],
   "source": [
    "# Definisanje parametara pretrage\n",
    "stepwise_model = auto_arima(train_data['prosek'], \n",
    "                            start_p=1, start_q=1,\n",
    "                            max_p=3, max_q=3, \n",
    "                            m=12,  # broj vremenskih koraka u jednoj sezoni\n",
    "                            start_P=0, seasonal=True,\n",
    "                            d=1, D=1, trace=True,\n",
    "                            error_action='ignore',  \n",
    "                            suppress_warnings=True, \n",
    "                            stepwise=True)\n",
    "\n",
    "# Treniranje modela\n",
    "stepwise_model.fit(train_data['prosek'])"
   ]
  },
  {
   "cell_type": "code",
   "execution_count": 9,
   "id": "21af8d28",
   "metadata": {},
   "outputs": [],
   "source": [
    "# Predviđanja za testni skup\n",
    "forecast_stepwise = stepwise_model.predict(n_periods=len(test_data))\n",
    "forecast_stepwise = pd.DataFrame(forecast_stepwise, index=test_data.index, columns=['Prediction'])"
   ]
  },
  {
   "cell_type": "code",
   "execution_count": 10,
   "id": "dd4a6619",
   "metadata": {},
   "outputs": [
    {
     "name": "stdout",
     "output_type": "stream",
     "text": [
      "Mean Squared Error (MSE): 1.3416653573237585\n",
      "Mean Absolute Error (MAE): 0.9727812672897737\n",
      "Root Mean Squared Error (RMSE): 1.1583027917275166\n"
     ]
    }
   ],
   "source": [
    "# Izračunavanje metrika\n",
    "mse = mean_squared_error(test_data['prosek'], forecast_stepwise)\n",
    "mae = mean_absolute_error(test_data['prosek'], forecast_stepwise)\n",
    "rmse = np.sqrt(mse)\n",
    "\n",
    "# Ispis rezultata\n",
    "print(\"Mean Squared Error (MSE):\", mse)\n",
    "print(\"Mean Absolute Error (MAE):\", mae)\n",
    "print(\"Root Mean Squared Error (RMSE):\", rmse)\n"
   ]
  },
  {
   "cell_type": "code",
   "execution_count": 11,
   "id": "345014b2",
   "metadata": {},
   "outputs": [
    {
     "name": "stdout",
     "output_type": "stream",
     "text": [
      "Performing stepwise search to minimize aic\n",
      " ARIMA(1,1,1)(0,1,1)[4]             : AIC=inf, Time=0.28 sec\n",
      " ARIMA(0,1,0)(0,1,0)[4]             : AIC=378.572, Time=0.02 sec\n",
      " ARIMA(1,1,0)(1,1,0)[4]             : AIC=360.040, Time=0.03 sec\n",
      " ARIMA(0,1,1)(0,1,1)[4]             : AIC=inf, Time=0.14 sec\n",
      " ARIMA(1,1,0)(0,1,0)[4]             : AIC=377.550, Time=0.03 sec\n",
      " ARIMA(1,1,0)(2,1,0)[4]             : AIC=359.640, Time=0.06 sec\n",
      " ARIMA(1,1,0)(2,1,1)[4]             : AIC=inf, Time=0.42 sec\n",
      " ARIMA(1,1,0)(1,1,1)[4]             : AIC=inf, Time=0.23 sec\n",
      " ARIMA(0,1,0)(2,1,0)[4]             : AIC=362.405, Time=0.03 sec\n",
      " ARIMA(2,1,0)(2,1,0)[4]             : AIC=352.246, Time=0.08 sec\n",
      " ARIMA(2,1,0)(1,1,0)[4]             : AIC=353.324, Time=0.05 sec\n",
      " ARIMA(2,1,0)(2,1,1)[4]             : AIC=inf, Time=1.37 sec\n",
      " ARIMA(2,1,0)(1,1,1)[4]             : AIC=inf, Time=0.90 sec\n",
      " ARIMA(3,1,0)(2,1,0)[4]             : AIC=341.734, Time=0.09 sec\n",
      " ARIMA(3,1,0)(1,1,0)[4]             : AIC=343.413, Time=0.06 sec\n",
      " ARIMA(3,1,0)(2,1,1)[4]             : AIC=inf, Time=0.83 sec\n",
      " ARIMA(3,1,0)(1,1,1)[4]             : AIC=inf, Time=0.33 sec\n",
      " ARIMA(3,1,1)(2,1,0)[4]             : AIC=inf, Time=0.58 sec\n",
      " ARIMA(2,1,1)(2,1,0)[4]             : AIC=inf, Time=1.17 sec\n",
      " ARIMA(3,1,0)(2,1,0)[4] intercept   : AIC=343.665, Time=1.28 sec\n",
      "\n",
      "Best model:  ARIMA(3,1,0)(2,1,0)[4]          \n",
      "Total fit time: 8.005 seconds\n"
     ]
    },
    {
     "data": {
      "text/html": [
       "<style>#sk-container-id-2 {color: black;}#sk-container-id-2 pre{padding: 0;}#sk-container-id-2 div.sk-toggleable {background-color: white;}#sk-container-id-2 label.sk-toggleable__label {cursor: pointer;display: block;width: 100%;margin-bottom: 0;padding: 0.3em;box-sizing: border-box;text-align: center;}#sk-container-id-2 label.sk-toggleable__label-arrow:before {content: \"▸\";float: left;margin-right: 0.25em;color: #696969;}#sk-container-id-2 label.sk-toggleable__label-arrow:hover:before {color: black;}#sk-container-id-2 div.sk-estimator:hover label.sk-toggleable__label-arrow:before {color: black;}#sk-container-id-2 div.sk-toggleable__content {max-height: 0;max-width: 0;overflow: hidden;text-align: left;background-color: #f0f8ff;}#sk-container-id-2 div.sk-toggleable__content pre {margin: 0.2em;color: black;border-radius: 0.25em;background-color: #f0f8ff;}#sk-container-id-2 input.sk-toggleable__control:checked~div.sk-toggleable__content {max-height: 200px;max-width: 100%;overflow: auto;}#sk-container-id-2 input.sk-toggleable__control:checked~label.sk-toggleable__label-arrow:before {content: \"▾\";}#sk-container-id-2 div.sk-estimator input.sk-toggleable__control:checked~label.sk-toggleable__label {background-color: #d4ebff;}#sk-container-id-2 div.sk-label input.sk-toggleable__control:checked~label.sk-toggleable__label {background-color: #d4ebff;}#sk-container-id-2 input.sk-hidden--visually {border: 0;clip: rect(1px 1px 1px 1px);clip: rect(1px, 1px, 1px, 1px);height: 1px;margin: -1px;overflow: hidden;padding: 0;position: absolute;width: 1px;}#sk-container-id-2 div.sk-estimator {font-family: monospace;background-color: #f0f8ff;border: 1px dotted black;border-radius: 0.25em;box-sizing: border-box;margin-bottom: 0.5em;}#sk-container-id-2 div.sk-estimator:hover {background-color: #d4ebff;}#sk-container-id-2 div.sk-parallel-item::after {content: \"\";width: 100%;border-bottom: 1px solid gray;flex-grow: 1;}#sk-container-id-2 div.sk-label:hover label.sk-toggleable__label {background-color: #d4ebff;}#sk-container-id-2 div.sk-serial::before {content: \"\";position: absolute;border-left: 1px solid gray;box-sizing: border-box;top: 0;bottom: 0;left: 50%;z-index: 0;}#sk-container-id-2 div.sk-serial {display: flex;flex-direction: column;align-items: center;background-color: white;padding-right: 0.2em;padding-left: 0.2em;position: relative;}#sk-container-id-2 div.sk-item {position: relative;z-index: 1;}#sk-container-id-2 div.sk-parallel {display: flex;align-items: stretch;justify-content: center;background-color: white;position: relative;}#sk-container-id-2 div.sk-item::before, #sk-container-id-2 div.sk-parallel-item::before {content: \"\";position: absolute;border-left: 1px solid gray;box-sizing: border-box;top: 0;bottom: 0;left: 50%;z-index: -1;}#sk-container-id-2 div.sk-parallel-item {display: flex;flex-direction: column;z-index: 1;position: relative;background-color: white;}#sk-container-id-2 div.sk-parallel-item:first-child::after {align-self: flex-end;width: 50%;}#sk-container-id-2 div.sk-parallel-item:last-child::after {align-self: flex-start;width: 50%;}#sk-container-id-2 div.sk-parallel-item:only-child::after {width: 0;}#sk-container-id-2 div.sk-dashed-wrapped {border: 1px dashed gray;margin: 0 0.4em 0.5em 0.4em;box-sizing: border-box;padding-bottom: 0.4em;background-color: white;}#sk-container-id-2 div.sk-label label {font-family: monospace;font-weight: bold;display: inline-block;line-height: 1.2em;}#sk-container-id-2 div.sk-label-container {text-align: center;}#sk-container-id-2 div.sk-container {/* jupyter's `normalize.less` sets `[hidden] { display: none; }` but bootstrap.min.css set `[hidden] { display: none !important; }` so we also need the `!important` here to be able to override the default hidden behavior on the sphinx rendered scikit-learn.org. See: https://github.com/scikit-learn/scikit-learn/issues/21755 */display: inline-block !important;position: relative;}#sk-container-id-2 div.sk-text-repr-fallback {display: none;}</style><div id=\"sk-container-id-2\" class=\"sk-top-container\"><div class=\"sk-text-repr-fallback\"><pre> ARIMA(3,1,0)(2,1,0)[4]          </pre><b>In a Jupyter environment, please rerun this cell to show the HTML representation or trust the notebook. <br />On GitHub, the HTML representation is unable to render, please try loading this page with nbviewer.org.</b></div><div class=\"sk-container\" hidden><div class=\"sk-item\"><div class=\"sk-estimator sk-toggleable\"><input class=\"sk-toggleable__control sk-hidden--visually\" id=\"sk-estimator-id-2\" type=\"checkbox\" checked><label for=\"sk-estimator-id-2\" class=\"sk-toggleable__label sk-toggleable__label-arrow\">ARIMA</label><div class=\"sk-toggleable__content\"><pre> ARIMA(3,1,0)(2,1,0)[4]          </pre></div></div></div></div></div>"
      ],
      "text/plain": [
       "ARIMA(order=(3, 1, 0), scoring_args={}, seasonal_order=(2, 1, 0, 4),\n",
       "      suppress_warnings=True, with_intercept=False)"
      ]
     },
     "execution_count": 11,
     "metadata": {},
     "output_type": "execute_result"
    }
   ],
   "source": [
    "\n",
    "stepwise_model_leto = auto_arima(train_data['leto'], \n",
    "                            start_p=1, start_q=1,\n",
    "                            max_p=3, max_q=3, \n",
    "                            m=4,  # broj vremenskih koraka u jednoj sezoni\n",
    "                            start_P=0, seasonal=True,\n",
    "                            d=1, D=1, trace=True,\n",
    "                            error_action='ignore',  \n",
    "                            suppress_warnings=True, \n",
    "                            stepwise=True)\n",
    "\n",
    "stepwise_model_leto.fit(train_data['leto'])"
   ]
  },
  {
   "cell_type": "code",
   "execution_count": 12,
   "id": "45fec077",
   "metadata": {},
   "outputs": [],
   "source": [
    "\n",
    "forecast_stepwise = stepwise_model_leto.predict(n_periods=len(test_data))\n",
    "forecast_stepwise = pd.DataFrame(forecast_stepwise, index=test_data.index, columns=['Prediction'])"
   ]
  },
  {
   "cell_type": "code",
   "execution_count": 13,
   "id": "357904e0",
   "metadata": {},
   "outputs": [
    {
     "name": "stdout",
     "output_type": "stream",
     "text": [
      "Mean Squared Error (MSE)- Summer: 2.3985362793720935\n",
      "Mean Absolute Error (MAE)- Summer: 1.29960859621733\n",
      "Root Mean Squared Error (RMSE)- Summer: 1.5487208526303549\n"
     ]
    }
   ],
   "source": [
    "\n",
    "mse = mean_squared_error(test_data['leto'], forecast_stepwise)\n",
    "mae = mean_absolute_error(test_data['leto'], forecast_stepwise)\n",
    "rmse = np.sqrt(mse)\n",
    "\n",
    "\n",
    "print(\"Mean Squared Error (MSE)- Summer:\", mse)\n",
    "print(\"Mean Absolute Error (MAE)- Summer:\", mae)\n",
    "print(\"Root Mean Squared Error (RMSE)- Summer:\", rmse)\n"
   ]
  },
  {
   "cell_type": "code",
   "execution_count": 14,
   "id": "e2c7ac46",
   "metadata": {},
   "outputs": [
    {
     "name": "stdout",
     "output_type": "stream",
     "text": [
      "Performing stepwise search to minimize aic\n",
      " ARIMA(1,1,1)(0,1,1)[4]             : AIC=inf, Time=2.10 sec\n",
      " ARIMA(0,1,0)(0,1,0)[4]             : AIC=582.452, Time=0.03 sec\n",
      " ARIMA(1,1,0)(1,1,0)[4]             : AIC=510.016, Time=0.08 sec\n",
      " ARIMA(0,1,1)(0,1,1)[4]             : AIC=inf, Time=0.27 sec\n",
      " ARIMA(1,1,0)(0,1,0)[4]             : AIC=544.750, Time=0.06 sec\n",
      " ARIMA(1,1,0)(2,1,0)[4]             : AIC=498.867, Time=0.08 sec\n",
      " ARIMA(1,1,0)(2,1,1)[4]             : AIC=inf, Time=0.41 sec\n",
      " ARIMA(1,1,0)(1,1,1)[4]             : AIC=inf, Time=0.19 sec\n",
      " ARIMA(0,1,0)(2,1,0)[4]             : AIC=536.579, Time=0.07 sec\n",
      " ARIMA(2,1,0)(2,1,0)[4]             : AIC=495.719, Time=0.07 sec\n",
      " ARIMA(2,1,0)(1,1,0)[4]             : AIC=506.367, Time=0.05 sec\n",
      " ARIMA(2,1,0)(2,1,1)[4]             : AIC=inf, Time=1.02 sec\n",
      " ARIMA(2,1,0)(1,1,1)[4]             : AIC=inf, Time=0.34 sec\n",
      " ARIMA(3,1,0)(2,1,0)[4]             : AIC=493.723, Time=0.10 sec\n",
      " ARIMA(3,1,0)(1,1,0)[4]             : AIC=507.078, Time=0.07 sec\n",
      " ARIMA(3,1,0)(2,1,1)[4]             : AIC=inf, Time=0.52 sec\n",
      " ARIMA(3,1,0)(1,1,1)[4]             : AIC=inf, Time=0.66 sec\n",
      " ARIMA(3,1,1)(2,1,0)[4]             : AIC=inf, Time=1.99 sec\n",
      " ARIMA(2,1,1)(2,1,0)[4]             : AIC=494.629, Time=2.18 sec\n",
      " ARIMA(3,1,0)(2,1,0)[4] intercept   : AIC=495.721, Time=1.72 sec\n",
      "\n",
      "Best model:  ARIMA(3,1,0)(2,1,0)[4]          \n",
      "Total fit time: 12.052 seconds\n"
     ]
    },
    {
     "data": {
      "text/html": [
       "<style>#sk-container-id-3 {color: black;}#sk-container-id-3 pre{padding: 0;}#sk-container-id-3 div.sk-toggleable {background-color: white;}#sk-container-id-3 label.sk-toggleable__label {cursor: pointer;display: block;width: 100%;margin-bottom: 0;padding: 0.3em;box-sizing: border-box;text-align: center;}#sk-container-id-3 label.sk-toggleable__label-arrow:before {content: \"▸\";float: left;margin-right: 0.25em;color: #696969;}#sk-container-id-3 label.sk-toggleable__label-arrow:hover:before {color: black;}#sk-container-id-3 div.sk-estimator:hover label.sk-toggleable__label-arrow:before {color: black;}#sk-container-id-3 div.sk-toggleable__content {max-height: 0;max-width: 0;overflow: hidden;text-align: left;background-color: #f0f8ff;}#sk-container-id-3 div.sk-toggleable__content pre {margin: 0.2em;color: black;border-radius: 0.25em;background-color: #f0f8ff;}#sk-container-id-3 input.sk-toggleable__control:checked~div.sk-toggleable__content {max-height: 200px;max-width: 100%;overflow: auto;}#sk-container-id-3 input.sk-toggleable__control:checked~label.sk-toggleable__label-arrow:before {content: \"▾\";}#sk-container-id-3 div.sk-estimator input.sk-toggleable__control:checked~label.sk-toggleable__label {background-color: #d4ebff;}#sk-container-id-3 div.sk-label input.sk-toggleable__control:checked~label.sk-toggleable__label {background-color: #d4ebff;}#sk-container-id-3 input.sk-hidden--visually {border: 0;clip: rect(1px 1px 1px 1px);clip: rect(1px, 1px, 1px, 1px);height: 1px;margin: -1px;overflow: hidden;padding: 0;position: absolute;width: 1px;}#sk-container-id-3 div.sk-estimator {font-family: monospace;background-color: #f0f8ff;border: 1px dotted black;border-radius: 0.25em;box-sizing: border-box;margin-bottom: 0.5em;}#sk-container-id-3 div.sk-estimator:hover {background-color: #d4ebff;}#sk-container-id-3 div.sk-parallel-item::after {content: \"\";width: 100%;border-bottom: 1px solid gray;flex-grow: 1;}#sk-container-id-3 div.sk-label:hover label.sk-toggleable__label {background-color: #d4ebff;}#sk-container-id-3 div.sk-serial::before {content: \"\";position: absolute;border-left: 1px solid gray;box-sizing: border-box;top: 0;bottom: 0;left: 50%;z-index: 0;}#sk-container-id-3 div.sk-serial {display: flex;flex-direction: column;align-items: center;background-color: white;padding-right: 0.2em;padding-left: 0.2em;position: relative;}#sk-container-id-3 div.sk-item {position: relative;z-index: 1;}#sk-container-id-3 div.sk-parallel {display: flex;align-items: stretch;justify-content: center;background-color: white;position: relative;}#sk-container-id-3 div.sk-item::before, #sk-container-id-3 div.sk-parallel-item::before {content: \"\";position: absolute;border-left: 1px solid gray;box-sizing: border-box;top: 0;bottom: 0;left: 50%;z-index: -1;}#sk-container-id-3 div.sk-parallel-item {display: flex;flex-direction: column;z-index: 1;position: relative;background-color: white;}#sk-container-id-3 div.sk-parallel-item:first-child::after {align-self: flex-end;width: 50%;}#sk-container-id-3 div.sk-parallel-item:last-child::after {align-self: flex-start;width: 50%;}#sk-container-id-3 div.sk-parallel-item:only-child::after {width: 0;}#sk-container-id-3 div.sk-dashed-wrapped {border: 1px dashed gray;margin: 0 0.4em 0.5em 0.4em;box-sizing: border-box;padding-bottom: 0.4em;background-color: white;}#sk-container-id-3 div.sk-label label {font-family: monospace;font-weight: bold;display: inline-block;line-height: 1.2em;}#sk-container-id-3 div.sk-label-container {text-align: center;}#sk-container-id-3 div.sk-container {/* jupyter's `normalize.less` sets `[hidden] { display: none; }` but bootstrap.min.css set `[hidden] { display: none !important; }` so we also need the `!important` here to be able to override the default hidden behavior on the sphinx rendered scikit-learn.org. See: https://github.com/scikit-learn/scikit-learn/issues/21755 */display: inline-block !important;position: relative;}#sk-container-id-3 div.sk-text-repr-fallback {display: none;}</style><div id=\"sk-container-id-3\" class=\"sk-top-container\"><div class=\"sk-text-repr-fallback\"><pre> ARIMA(3,1,0)(2,1,0)[4]          </pre><b>In a Jupyter environment, please rerun this cell to show the HTML representation or trust the notebook. <br />On GitHub, the HTML representation is unable to render, please try loading this page with nbviewer.org.</b></div><div class=\"sk-container\" hidden><div class=\"sk-item\"><div class=\"sk-estimator sk-toggleable\"><input class=\"sk-toggleable__control sk-hidden--visually\" id=\"sk-estimator-id-3\" type=\"checkbox\" checked><label for=\"sk-estimator-id-3\" class=\"sk-toggleable__label sk-toggleable__label-arrow\">ARIMA</label><div class=\"sk-toggleable__content\"><pre> ARIMA(3,1,0)(2,1,0)[4]          </pre></div></div></div></div></div>"
      ],
      "text/plain": [
       "ARIMA(order=(3, 1, 0), scoring_args={}, seasonal_order=(2, 1, 0, 4),\n",
       "      suppress_warnings=True, with_intercept=False)"
      ]
     },
     "execution_count": 14,
     "metadata": {},
     "output_type": "execute_result"
    }
   ],
   "source": [
    "\n",
    "stepwise_model_zima = auto_arima(train_data['zima'], \n",
    "                            start_p=1, start_q=1,\n",
    "                            max_p=3, max_q=3, \n",
    "                            m=4, \n",
    "                            start_P=0, seasonal=True,\n",
    "                            d=1, D=1, trace=True,\n",
    "                            error_action='ignore',  \n",
    "                            suppress_warnings=True, \n",
    "                            stepwise=True)\n",
    "\n",
    "# Treniranje modela\n",
    "stepwise_model_zima.fit(train_data['zima'])"
   ]
  },
  {
   "cell_type": "code",
   "execution_count": 15,
   "id": "6cbb7202",
   "metadata": {},
   "outputs": [],
   "source": [
    "\n",
    "forecast_stepwise = stepwise_model_zima.predict(n_periods=len(test_data))\n",
    "forecast_stepwise = pd.DataFrame(forecast_stepwise, index=test_data.index, columns=['Prediction'])"
   ]
  },
  {
   "cell_type": "code",
   "execution_count": 16,
   "id": "06f7f997",
   "metadata": {},
   "outputs": [
    {
     "name": "stdout",
     "output_type": "stream",
     "text": [
      "Mean Squared Error (MSE) - winter: 10.702812036344689\n",
      "Mean Absolute Error (MAE)- winter: 2.7980409453931108\n",
      "Root Mean Squared Error (RMSE)- winter: 3.271515250819517\n"
     ]
    }
   ],
   "source": [
    "\n",
    "mse = mean_squared_error(test_data['zima'], forecast_stepwise)\n",
    "mae = mean_absolute_error(test_data['zima'], forecast_stepwise)\n",
    "rmse = np.sqrt(mse)\n",
    "\n",
    "# Ispis rezultata\n",
    "print(\"Mean Squared Error (MSE) - winter:\", mse)\n",
    "print(\"Mean Absolute Error (MAE)- winter:\", mae)\n",
    "print(\"Root Mean Squared Error (RMSE)- winter:\", rmse)"
   ]
  },
  {
   "cell_type": "code",
   "execution_count": null,
   "id": "45c0a69a",
   "metadata": {},
   "outputs": [],
   "source": []
  }
 ],
 "metadata": {
  "kernelspec": {
   "display_name": "Python 3 (ipykernel)",
   "language": "python",
   "name": "python3"
  },
  "language_info": {
   "codemirror_mode": {
    "name": "ipython",
    "version": 3
   },
   "file_extension": ".py",
   "mimetype": "text/x-python",
   "name": "python",
   "nbconvert_exporter": "python",
   "pygments_lexer": "ipython3",
   "version": "3.8.10"
  }
 },
 "nbformat": 4,
 "nbformat_minor": 5
}
