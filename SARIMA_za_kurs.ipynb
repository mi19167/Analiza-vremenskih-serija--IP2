{
 "cells": [
  {
   "cell_type": "code",
   "execution_count": 1,
   "id": "10a55511",
   "metadata": {},
   "outputs": [],
   "source": [
    "from sklearn.model_selection import train_test_split\n",
    "import pandas as pd\n",
    "from pmdarima.arima import auto_arima\n",
    "from sklearn.metrics import mean_squared_error, mean_absolute_error\n",
    "import numpy as np\n",
    "from statsmodels.tsa.statespace.sarimax import SARIMAX"
   ]
  },
  {
   "cell_type": "code",
   "execution_count": 2,
   "id": "e935e016",
   "metadata": {},
   "outputs": [],
   "source": [
    "df = pd.read_csv('sredjeni_kurs.csv', parse_dates=True)"
   ]
  },
  {
   "cell_type": "code",
   "execution_count": 4,
   "id": "8d4ec162",
   "metadata": {},
   "outputs": [],
   "source": [
    "from sklearn.model_selection import train_test_split\n",
    "\n",
    "# Podela podataka na testni i trening skup\n",
    "train_data, test_data = train_test_split(df, test_size=0.2, shuffle=False)"
   ]
  },
  {
   "cell_type": "code",
   "execution_count": 5,
   "id": "40b75ec0",
   "metadata": {},
   "outputs": [
    {
     "name": "stdout",
     "output_type": "stream",
     "text": [
      "Performing stepwise search to minimize aic\n",
      " ARIMA(1,1,1)(0,1,1)[12]             : AIC=inf, Time=17.43 sec\n",
      " ARIMA(0,1,0)(0,1,0)[12]             : AIC=4514.722, Time=0.37 sec\n",
      " ARIMA(1,1,0)(1,1,0)[12]             : AIC=2135.298, Time=2.41 sec\n",
      " ARIMA(0,1,1)(0,1,1)[12]             : AIC=inf, Time=12.60 sec\n",
      " ARIMA(1,1,0)(0,1,0)[12]             : AIC=4168.702, Time=0.85 sec\n",
      " ARIMA(1,1,0)(2,1,0)[12]             : AIC=1398.061, Time=5.32 sec\n",
      " ARIMA(1,1,0)(2,1,1)[12]             : AIC=inf, Time=41.01 sec\n",
      " ARIMA(1,1,0)(1,1,1)[12]             : AIC=inf, Time=22.20 sec\n",
      " ARIMA(0,1,0)(2,1,0)[12]             : AIC=1755.000, Time=2.59 sec\n",
      " ARIMA(2,1,0)(2,1,0)[12]             : AIC=1369.329, Time=7.03 sec\n",
      " ARIMA(2,1,0)(1,1,0)[12]             : AIC=2098.972, Time=3.92 sec\n",
      " ARIMA(2,1,0)(2,1,1)[12]             : AIC=inf, Time=43.60 sec\n",
      " ARIMA(2,1,0)(1,1,1)[12]             : AIC=inf, Time=30.94 sec\n",
      " ARIMA(3,1,0)(2,1,0)[12]             : AIC=1370.849, Time=6.65 sec\n",
      " ARIMA(2,1,1)(2,1,0)[12]             : AIC=1363.337, Time=16.96 sec\n",
      " ARIMA(2,1,1)(1,1,0)[12]             : AIC=inf, Time=13.04 sec\n",
      " ARIMA(2,1,1)(2,1,1)[12]             : AIC=inf, Time=35.87 sec\n",
      " ARIMA(2,1,1)(1,1,1)[12]             : AIC=inf, Time=24.93 sec\n",
      " ARIMA(1,1,1)(2,1,0)[12]             : AIC=1364.662, Time=7.60 sec\n",
      " ARIMA(3,1,1)(2,1,0)[12]             : AIC=1364.317, Time=13.00 sec\n",
      " ARIMA(2,1,2)(2,1,0)[12]             : AIC=inf, Time=36.77 sec\n",
      " ARIMA(1,1,2)(2,1,0)[12]             : AIC=inf, Time=24.83 sec\n",
      " ARIMA(3,1,2)(2,1,0)[12]             : AIC=inf, Time=56.88 sec\n",
      " ARIMA(2,1,1)(2,1,0)[12] intercept   : AIC=1365.337, Time=52.66 sec\n",
      "\n",
      "Best model:  ARIMA(2,1,1)(2,1,0)[12]          \n",
      "Total fit time: 479.531 seconds\n"
     ]
    }
   ],
   "source": [
    "# Definisanje parametara pretrage\n",
    "stepwise_model = auto_arima(train_data['MIDDLE EXCHANGE RATE'], \n",
    "                            start_p=1, start_q=1,\n",
    "                            max_p=3, max_q=3, \n",
    "                            m=12,  # broj vremenskih koraka u jednoj sezoni\n",
    "                            start_P=0, seasonal=True,\n",
    "                            d=1, D=1, trace=True,\n",
    "                            error_action='ignore',  \n",
    "                            suppress_warnings=True, \n",
    "                            stepwise=True)"
   ]
  },
  {
   "cell_type": "code",
   "execution_count": 6,
   "id": "08d08c26",
   "metadata": {},
   "outputs": [
    {
     "name": "stdout",
     "output_type": "stream",
     "text": [
      "Optimalni parametri ARIMA: (2, 1, 1)\n",
      "Optimalni sezonski parametri ARIMA: (2, 1, 0, 12)\n"
     ]
    }
   ],
   "source": [
    "# Ispis optimalnih parametara\n",
    "print(\"Optimalni parametri ARIMA:\", stepwise_model.order)\n",
    "print(\"Optimalni sezonski parametri ARIMA:\", stepwise_model.seasonal_order)"
   ]
  },
  {
   "cell_type": "code",
   "execution_count": 7,
   "id": "f6e7e46c",
   "metadata": {},
   "outputs": [
    {
     "name": "stdout",
     "output_type": "stream",
     "text": [
      "RUNNING THE L-BFGS-B CODE\n",
      "\n",
      "           * * *\n",
      "\n",
      "Machine precision = 2.220D-16\n",
      " N =            6     M =           10\n",
      "\n",
      "At X0         0 variables are exactly at the bounds\n",
      "\n",
      "At iterate    0    f=  1.55469D-01    |proj g|=  1.07504D+00\n"
     ]
    },
    {
     "name": "stderr",
     "output_type": "stream",
     "text": [
      " This problem is unconstrained.\n"
     ]
    },
    {
     "name": "stdout",
     "output_type": "stream",
     "text": [
      "\n",
      "At iterate    5    f=  1.10836D-01    |proj g|=  6.36798D-03\n",
      "\n",
      "At iterate   10    f=  1.10787D-01    |proj g|=  4.55519D-04\n",
      "\n",
      "At iterate   15    f=  1.10787D-01    |proj g|=  1.09288D-03\n",
      "\n",
      "At iterate   20    f=  1.10668D-01    |proj g|=  9.38036D-02\n",
      "\n",
      "At iterate   25    f=  1.10325D-01    |proj g|=  5.42699D-02\n",
      "\n",
      "At iterate   30    f=  1.10117D-01    |proj g|=  9.78529D-04\n",
      "\n",
      "           * * *\n",
      "\n",
      "Tit   = total number of iterations\n",
      "Tnf   = total number of function evaluations\n",
      "Tnint = total number of segments explored during Cauchy searches\n",
      "Skip  = number of BFGS updates skipped\n",
      "Nact  = number of active bounds at final generalized Cauchy point\n",
      "Projg = norm of the final projected gradient\n",
      "F     = final function value\n",
      "\n",
      "           * * *\n",
      "\n",
      "   N    Tit     Tnf  Tnint  Skip  Nact     Projg        F\n",
      "    6     34     42      1     0     0   8.349D-06   1.101D-01\n",
      "  F =  0.11011548604269111     \n",
      "\n",
      "CONVERGENCE: NORM_OF_PROJECTED_GRADIENT_<=_PGTOL            \n"
     ]
    }
   ],
   "source": [
    "# Treniranje SARIMAX modela sa optimalnim parametrima\n",
    "sarimax_model = SARIMAX(train_data['MIDDLE EXCHANGE RATE'], order=stepwise_model.order,\n",
    "                        seasonal_order=stepwise_model.seasonal_order)\n",
    "sarimax_results = sarimax_model.fit()"
   ]
  },
  {
   "cell_type": "code",
   "execution_count": 8,
   "id": "3b02e1ef",
   "metadata": {},
   "outputs": [
    {
     "name": "stderr",
     "output_type": "stream",
     "text": [
      "/home/ivana/.local/lib/python3.8/site-packages/statsmodels/tsa/statespace/representation.py:374: FutureWarning: Unknown keyword arguments: dict_keys(['typ']).Passing unknown keyword arguments will raise a TypeError beginning in version 0.15.\n",
      "  warnings.warn(msg, FutureWarning)\n"
     ]
    },
    {
     "name": "stdout",
     "output_type": "stream",
     "text": [
      "Mean Squared Error (MSE): 2.7098264822628897\n",
      "Mean Absolute Error (MAE): 1.394207234979689\n",
      "Root Mean Squared Error (RMSE): 1.6461550602123998\n"
     ]
    }
   ],
   "source": [
    "# Predviđanja za testni skup\n",
    "sarimax_forecast = sarimax_results.predict(start=test_data.index[0], end=test_data.index[-1], typ='levels')\n",
    "\n",
    "# Izračunavanje metrika\n",
    "mse = mean_squared_error(test_data['MIDDLE EXCHANGE RATE'], sarimax_forecast)\n",
    "mae = mean_absolute_error(test_data['MIDDLE EXCHANGE RATE'], sarimax_forecast)\n",
    "rmse = np.sqrt(mse)\n",
    "\n",
    "# Ispis rezultata\n",
    "print(\"Mean Squared Error (MSE):\", mse)\n",
    "print(\"Mean Absolute Error (MAE):\", mae)\n",
    "print(\"Root Mean Squared Error (RMSE):\", rmse)"
   ]
  },
  {
   "cell_type": "code",
   "execution_count": null,
   "id": "2821d7fa",
   "metadata": {},
   "outputs": [],
   "source": []
  }
 ],
 "metadata": {
  "kernelspec": {
   "display_name": "Python 3 (ipykernel)",
   "language": "python",
   "name": "python3"
  },
  "language_info": {
   "codemirror_mode": {
    "name": "ipython",
    "version": 3
   },
   "file_extension": ".py",
   "mimetype": "text/x-python",
   "name": "python",
   "nbconvert_exporter": "python",
   "pygments_lexer": "ipython3",
   "version": "3.8.10"
  }
 },
 "nbformat": 4,
 "nbformat_minor": 5
}
