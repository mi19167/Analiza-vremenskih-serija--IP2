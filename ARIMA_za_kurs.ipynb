{
 "cells": [
  {
   "cell_type": "code",
   "execution_count": 1,
   "id": "89196bbf",
   "metadata": {},
   "outputs": [],
   "source": [
    "import pandas as pd\n",
    "import matplotlib.pyplot as plt"
   ]
  },
  {
   "cell_type": "code",
   "execution_count": 3,
   "id": "66e375cd",
   "metadata": {},
   "outputs": [
    {
     "name": "stdout",
     "output_type": "stream",
     "text": [
      "  APPLICATION DATE  MIDDLE EXCHANGE RATE\n",
      "0       2003-01-01               61.5845\n",
      "1       2003-01-02               61.5845\n",
      "2       2003-01-03               61.5845\n",
      "3       2003-01-04               61.6615\n",
      "4       2003-01-05               61.6615\n"
     ]
    }
   ],
   "source": [
    "df = pd.read_csv('sredjeni_kurs.csv', parse_dates=True)\n",
    "print(df.head())"
   ]
  },
  {
   "cell_type": "code",
   "execution_count": 4,
   "id": "8b283791",
   "metadata": {},
   "outputs": [],
   "source": [
    "from sklearn.model_selection import train_test_split\n",
    "\n",
    "# Podela podataka na testni i trening skup\n",
    "train_data, test_data = train_test_split(df, test_size=0.2, shuffle=False)"
   ]
  },
  {
   "cell_type": "code",
   "execution_count": 5,
   "id": "96bf3ad5",
   "metadata": {},
   "outputs": [
    {
     "name": "stdout",
     "output_type": "stream",
     "text": [
      "Performing stepwise search to minimize aic\n",
      " ARIMA(2,1,2)(0,0,0)[0] intercept   : AIC=-168.547, Time=4.33 sec\n",
      " ARIMA(0,1,0)(0,0,0)[0] intercept   : AIC=234.765, Time=0.52 sec\n",
      " ARIMA(1,1,0)(0,0,0)[0] intercept   : AIC=-124.910, Time=0.80 sec\n",
      " ARIMA(0,1,1)(0,0,0)[0] intercept   : AIC=-158.968, Time=0.59 sec\n",
      " ARIMA(0,1,0)(0,0,0)[0]             : AIC=241.175, Time=0.20 sec\n",
      " ARIMA(1,1,2)(0,0,0)[0] intercept   : AIC=-170.844, Time=2.32 sec\n",
      " ARIMA(0,1,2)(0,0,0)[0] intercept   : AIC=-159.586, Time=0.76 sec\n",
      " ARIMA(1,1,1)(0,0,0)[0] intercept   : AIC=-160.494, Time=1.08 sec\n",
      " ARIMA(1,1,3)(0,0,0)[0] intercept   : AIC=-168.933, Time=4.01 sec\n",
      " ARIMA(0,1,3)(0,0,0)[0] intercept   : AIC=-164.339, Time=0.86 sec\n",
      " ARIMA(2,1,1)(0,0,0)[0] intercept   : AIC=-164.074, Time=1.66 sec\n",
      " ARIMA(2,1,3)(0,0,0)[0] intercept   : AIC=-166.887, Time=4.51 sec\n",
      " ARIMA(1,1,2)(0,0,0)[0]             : AIC=-164.843, Time=0.83 sec\n",
      "\n",
      "Best model:  ARIMA(1,1,2)(0,0,0)[0] intercept\n",
      "Total fit time: 22.475 seconds\n"
     ]
    }
   ],
   "source": [
    "from pmdarima.arima import auto_arima\n",
    "import pandas as pd\n",
    "\n",
    "# Definisanje i treniranje modela\n",
    "model = auto_arima(train_data['MIDDLE EXCHANGE RATE'], trace=True, error_action='ignore', suppress_warnings=True)\n",
    "model.fit(train_data['MIDDLE EXCHANGE RATE'])\n",
    "\n",
    "# Predviđanja za testni skup\n",
    "forecast = model.predict(n_periods=len(test_data))\n",
    "forecast = pd.DataFrame(forecast, index=test_data.index, columns=['Prediction'])\n"
   ]
  },
  {
   "cell_type": "markdown",
   "id": "ce5bb36e",
   "metadata": {},
   "source": [
    "Ovo ukazuje na to da ARIMA(1,1,2)(0,0,0)[0] model najbolje predviđa srednji kurs evra."
   ]
  },
  {
   "cell_type": "code",
   "execution_count": 6,
   "id": "abcc83f6",
   "metadata": {},
   "outputs": [
    {
     "name": "stdout",
     "output_type": "stream",
     "text": [
      "Mean Squared Error (MSE): 67.93252047507656\n",
      "Mean Absolute Error (MAE): 7.119628510271598\n",
      "Root Mean Squared Error (RMSE): 8.242118688485174\n",
      "Mean Absolute Percentage Error (MAPE): 6.064534529412018\n"
     ]
    }
   ],
   "source": [
    "from sklearn.metrics import mean_squared_error, mean_absolute_error\n",
    "import numpy as np\n",
    "\n",
    "mse = mean_squared_error(test_data['MIDDLE EXCHANGE RATE'], forecast['Prediction'])\n",
    "\n",
    "mae = mean_absolute_error(test_data['MIDDLE EXCHANGE RATE'], forecast['Prediction'])\n",
    "\n",
    "rmse = np.sqrt(mse)\n",
    "\n",
    "\n",
    "# Ispisivanje rezultata\n",
    "print(\"Mean Squared Error (MSE):\", mse)\n",
    "print(\"Mean Absolute Error (MAE):\", mae)\n",
    "print(\"Root Mean Squared Error (RMSE):\", rmse)\n"
   ]
  },
  {
   "cell_type": "markdown",
   "id": "14e3cd76",
   "metadata": {},
   "source": [
    "Podesavanje hiperparametara:"
   ]
  },
  {
   "cell_type": "code",
   "execution_count": 7,
   "id": "6013565d",
   "metadata": {},
   "outputs": [
    {
     "name": "stdout",
     "output_type": "stream",
     "text": [
      "Performing stepwise search to minimize aic\n",
      " ARIMA(1,1,1)(0,1,1)[12]             : AIC=inf, Time=16.10 sec\n",
      " ARIMA(0,1,0)(0,1,0)[12]             : AIC=4514.722, Time=0.39 sec\n",
      " ARIMA(1,1,0)(1,1,0)[12]             : AIC=2135.298, Time=2.16 sec\n",
      " ARIMA(0,1,1)(0,1,1)[12]             : AIC=inf, Time=10.66 sec\n",
      " ARIMA(1,1,0)(0,1,0)[12]             : AIC=4168.702, Time=0.90 sec\n",
      " ARIMA(1,1,0)(2,1,0)[12]             : AIC=1398.061, Time=4.28 sec\n",
      " ARIMA(1,1,0)(2,1,1)[12]             : AIC=inf, Time=37.40 sec\n",
      " ARIMA(1,1,0)(1,1,1)[12]             : AIC=inf, Time=19.09 sec\n",
      " ARIMA(0,1,0)(2,1,0)[12]             : AIC=1755.000, Time=2.34 sec\n",
      " ARIMA(2,1,0)(2,1,0)[12]             : AIC=1369.329, Time=6.10 sec\n",
      " ARIMA(2,1,0)(1,1,0)[12]             : AIC=2098.972, Time=3.24 sec\n",
      " ARIMA(2,1,0)(2,1,1)[12]             : AIC=inf, Time=40.04 sec\n",
      " ARIMA(2,1,0)(1,1,1)[12]             : AIC=inf, Time=27.35 sec\n",
      " ARIMA(3,1,0)(2,1,0)[12]             : AIC=1370.849, Time=6.30 sec\n",
      " ARIMA(2,1,1)(2,1,0)[12]             : AIC=1363.337, Time=15.42 sec\n",
      " ARIMA(2,1,1)(1,1,0)[12]             : AIC=inf, Time=11.76 sec\n",
      " ARIMA(2,1,1)(2,1,1)[12]             : AIC=inf, Time=33.96 sec\n",
      " ARIMA(2,1,1)(1,1,1)[12]             : AIC=inf, Time=23.48 sec\n",
      " ARIMA(1,1,1)(2,1,0)[12]             : AIC=1364.662, Time=7.09 sec\n",
      " ARIMA(3,1,1)(2,1,0)[12]             : AIC=1364.317, Time=12.48 sec\n",
      " ARIMA(2,1,2)(2,1,0)[12]             : AIC=inf, Time=37.43 sec\n",
      " ARIMA(1,1,2)(2,1,0)[12]             : AIC=inf, Time=26.18 sec\n",
      " ARIMA(3,1,2)(2,1,0)[12]             : AIC=inf, Time=59.19 sec\n",
      " ARIMA(2,1,1)(2,1,0)[12] intercept   : AIC=1365.337, Time=53.01 sec\n",
      "\n",
      "Best model:  ARIMA(2,1,1)(2,1,0)[12]          \n",
      "Total fit time: 456.394 seconds\n"
     ]
    },
    {
     "data": {
      "text/html": [
       "<style>#sk-container-id-1 {color: black;background-color: white;}#sk-container-id-1 pre{padding: 0;}#sk-container-id-1 div.sk-toggleable {background-color: white;}#sk-container-id-1 label.sk-toggleable__label {cursor: pointer;display: block;width: 100%;margin-bottom: 0;padding: 0.3em;box-sizing: border-box;text-align: center;}#sk-container-id-1 label.sk-toggleable__label-arrow:before {content: \"▸\";float: left;margin-right: 0.25em;color: #696969;}#sk-container-id-1 label.sk-toggleable__label-arrow:hover:before {color: black;}#sk-container-id-1 div.sk-estimator:hover label.sk-toggleable__label-arrow:before {color: black;}#sk-container-id-1 div.sk-toggleable__content {max-height: 0;max-width: 0;overflow: hidden;text-align: left;background-color: #f0f8ff;}#sk-container-id-1 div.sk-toggleable__content pre {margin: 0.2em;color: black;border-radius: 0.25em;background-color: #f0f8ff;}#sk-container-id-1 input.sk-toggleable__control:checked~div.sk-toggleable__content {max-height: 200px;max-width: 100%;overflow: auto;}#sk-container-id-1 input.sk-toggleable__control:checked~label.sk-toggleable__label-arrow:before {content: \"▾\";}#sk-container-id-1 div.sk-estimator input.sk-toggleable__control:checked~label.sk-toggleable__label {background-color: #d4ebff;}#sk-container-id-1 div.sk-label input.sk-toggleable__control:checked~label.sk-toggleable__label {background-color: #d4ebff;}#sk-container-id-1 input.sk-hidden--visually {border: 0;clip: rect(1px 1px 1px 1px);clip: rect(1px, 1px, 1px, 1px);height: 1px;margin: -1px;overflow: hidden;padding: 0;position: absolute;width: 1px;}#sk-container-id-1 div.sk-estimator {font-family: monospace;background-color: #f0f8ff;border: 1px dotted black;border-radius: 0.25em;box-sizing: border-box;margin-bottom: 0.5em;}#sk-container-id-1 div.sk-estimator:hover {background-color: #d4ebff;}#sk-container-id-1 div.sk-parallel-item::after {content: \"\";width: 100%;border-bottom: 1px solid gray;flex-grow: 1;}#sk-container-id-1 div.sk-label:hover label.sk-toggleable__label {background-color: #d4ebff;}#sk-container-id-1 div.sk-serial::before {content: \"\";position: absolute;border-left: 1px solid gray;box-sizing: border-box;top: 0;bottom: 0;left: 50%;z-index: 0;}#sk-container-id-1 div.sk-serial {display: flex;flex-direction: column;align-items: center;background-color: white;padding-right: 0.2em;padding-left: 0.2em;position: relative;}#sk-container-id-1 div.sk-item {position: relative;z-index: 1;}#sk-container-id-1 div.sk-parallel {display: flex;align-items: stretch;justify-content: center;background-color: white;position: relative;}#sk-container-id-1 div.sk-item::before, #sk-container-id-1 div.sk-parallel-item::before {content: \"\";position: absolute;border-left: 1px solid gray;box-sizing: border-box;top: 0;bottom: 0;left: 50%;z-index: -1;}#sk-container-id-1 div.sk-parallel-item {display: flex;flex-direction: column;z-index: 1;position: relative;background-color: white;}#sk-container-id-1 div.sk-parallel-item:first-child::after {align-self: flex-end;width: 50%;}#sk-container-id-1 div.sk-parallel-item:last-child::after {align-self: flex-start;width: 50%;}#sk-container-id-1 div.sk-parallel-item:only-child::after {width: 0;}#sk-container-id-1 div.sk-dashed-wrapped {border: 1px dashed gray;margin: 0 0.4em 0.5em 0.4em;box-sizing: border-box;padding-bottom: 0.4em;background-color: white;}#sk-container-id-1 div.sk-label label {font-family: monospace;font-weight: bold;display: inline-block;line-height: 1.2em;}#sk-container-id-1 div.sk-label-container {text-align: center;}#sk-container-id-1 div.sk-container {/* jupyter's `normalize.less` sets `[hidden] { display: none; }` but bootstrap.min.css set `[hidden] { display: none !important; }` so we also need the `!important` here to be able to override the default hidden behavior on the sphinx rendered scikit-learn.org. See: https://github.com/scikit-learn/scikit-learn/issues/21755 */display: inline-block !important;position: relative;}#sk-container-id-1 div.sk-text-repr-fallback {display: none;}</style><div id=\"sk-container-id-1\" class=\"sk-top-container\"><div class=\"sk-text-repr-fallback\"><pre> ARIMA(2,1,1)(2,1,0)[12]          </pre><b>In a Jupyter environment, please rerun this cell to show the HTML representation or trust the notebook. <br />On GitHub, the HTML representation is unable to render, please try loading this page with nbviewer.org.</b></div><div class=\"sk-container\" hidden><div class=\"sk-item\"><div class=\"sk-estimator sk-toggleable\"><input class=\"sk-toggleable__control sk-hidden--visually\" id=\"sk-estimator-id-1\" type=\"checkbox\" checked><label for=\"sk-estimator-id-1\" class=\"sk-toggleable__label sk-toggleable__label-arrow\">ARIMA</label><div class=\"sk-toggleable__content\"><pre> ARIMA(2,1,1)(2,1,0)[12]          </pre></div></div></div></div></div>"
      ],
      "text/plain": [
       "ARIMA(order=(2, 1, 1), scoring_args={}, seasonal_order=(2, 1, 0, 12),\n",
       "      suppress_warnings=True, with_intercept=False)"
      ]
     },
     "execution_count": 7,
     "metadata": {},
     "output_type": "execute_result"
    }
   ],
   "source": [
    "# Definisanje parametara pretrage\n",
    "stepwise_model = auto_arima(train_data['MIDDLE EXCHANGE RATE'], \n",
    "                            start_p=1, start_q=1,\n",
    "                            max_p=3, max_q=3, \n",
    "                            m=12,  # broj vremenskih koraka u jednoj sezoni\n",
    "                            start_P=0, seasonal=True,\n",
    "                            d=1, D=1, trace=True,\n",
    "                            error_action='ignore',  \n",
    "                            suppress_warnings=True, \n",
    "                            stepwise=True)\n",
    "\n",
    "# Treniranje modela\n",
    "stepwise_model.fit(train_data['MIDDLE EXCHANGE RATE'])\n"
   ]
  },
  {
   "cell_type": "code",
   "execution_count": 8,
   "id": "b263dba0",
   "metadata": {},
   "outputs": [],
   "source": [
    "# Predviđanja za testni skup\n",
    "forecast_stepwise = stepwise_model.predict(n_periods=len(test_data))\n",
    "forecast_stepwise = pd.DataFrame(forecast_stepwise, index=test_data.index, columns=['Prediction'])"
   ]
  },
  {
   "cell_type": "code",
   "execution_count": 11,
   "id": "cf1b2485",
   "metadata": {},
   "outputs": [
    {
     "name": "stdout",
     "output_type": "stream",
     "text": [
      "      Prediction\n",
      "6136  117.598721\n",
      "6137  117.593347\n",
      "6138  117.603107\n",
      "6139  117.600622\n",
      "6140  117.597507\n",
      "...          ...\n",
      "7665  120.146813\n",
      "7666  120.138998\n",
      "7667  120.126702\n",
      "7668  120.138882\n",
      "7669  120.158986\n",
      "\n",
      "[1534 rows x 1 columns]\n"
     ]
    }
   ],
   "source": [
    "print(forecast_stepwise)"
   ]
  },
  {
   "cell_type": "code",
   "execution_count": 10,
   "id": "e2114cb6",
   "metadata": {},
   "outputs": [
    {
     "name": "stdout",
     "output_type": "stream",
     "text": [
      "Mean Squared Error (MSE): 2.7098264822628897\n",
      "Mean Absolute Error (MAE): 1.394207234979689\n",
      "Root Mean Squared Error (RMSE): 1.6461550602123998\n"
     ]
    }
   ],
   "source": [
    "# Izračunavanje metrika\n",
    "mse = mean_squared_error(test_data['MIDDLE EXCHANGE RATE'], forecast_stepwise)\n",
    "mae = mean_absolute_error(test_data['MIDDLE EXCHANGE RATE'], forecast_stepwise)\n",
    "rmse = np.sqrt(mse)\n",
    "\n",
    "# Ispis rezultata\n",
    "print(\"Mean Squared Error (MSE):\", mse)\n",
    "print(\"Mean Absolute Error (MAE):\", mae)\n",
    "print(\"Root Mean Squared Error (RMSE):\", rmse)\n"
   ]
  }
 ],
 "metadata": {
  "kernelspec": {
   "display_name": "Python 3 (ipykernel)",
   "language": "python",
   "name": "python3"
  },
  "language_info": {
   "codemirror_mode": {
    "name": "ipython",
    "version": 3
   },
   "file_extension": ".py",
   "mimetype": "text/x-python",
   "name": "python",
   "nbconvert_exporter": "python",
   "pygments_lexer": "ipython3",
   "version": "3.8.10"
  }
 },
 "nbformat": 4,
 "nbformat_minor": 5
}
